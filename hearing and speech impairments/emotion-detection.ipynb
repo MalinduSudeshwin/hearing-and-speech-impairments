{
 "cells": [
  {
   "cell_type": "code",
   "execution_count": 2,
   "metadata": {},
   "outputs": [
    {
     "name": "stderr",
     "output_type": "stream",
     "text": [
      "c:\\Users\\Legion\\.conda\\envs\\tf210\\lib\\site-packages\\numpy\\_distributor_init.py:30: UserWarning: loaded more than 1 DLL from .libs:\n",
      "c:\\Users\\Legion\\.conda\\envs\\tf210\\lib\\site-packages\\numpy\\.libs\\libopenblas.FB5AE2TYXYH2IJRDKGDGQ3XBKLKTF43H.gfortran-win_amd64.dll\n",
      "c:\\Users\\Legion\\.conda\\envs\\tf210\\lib\\site-packages\\numpy\\.libs\\libopenblas.GK7GX5KEQ4F6UYO3P26ULGBQYHGQO7J4.gfortran-win_amd64.dll\n",
      "  warnings.warn(\"loaded more than 1 DLL from .libs:\"\n"
     ]
    }
   ],
   "source": [
    "import random\n",
    "import shutil\n",
    "import pathlib\n",
    "import os, glob\n",
    "import itertools\n",
    "import cv2 as cv\n",
    "import numpy as np\n",
    "import pandas as pd\n",
    "import seaborn as sns\n",
    "from tqdm import tqdm\n",
    "import tensorflow as tf\n",
    "from arcface import ArcFace\n",
    "from mtcnn.mtcnn import MTCNN\n",
    "from PIL import Image, ImageOps\n",
    "from matplotlib import pyplot as plt\n",
    "from sklearn.utils import class_weight \n",
    "from sklearn.ensemble import RandomForestClassifier\n",
    "from transformers import AutoTokenizer, AutoModelWithLMHead\n",
    "from sklearn.metrics import confusion_matrix, classification_report, accuracy_score\n",
    "os.environ['TF_CPP_MIN_LOG_LEVEL'] = '3'"
   ]
  },
  {
   "attachments": {},
   "cell_type": "markdown",
   "metadata": {},
   "source": [
    "# Face Emotion"
   ]
  },
  {
   "cell_type": "code",
   "execution_count": 3,
   "metadata": {},
   "outputs": [],
   "source": [
    "def extract_face(\n",
    "\t\t\t\tframe,\n",
    "\t\t\t\tdetector = MTCNN(), \n",
    "\t\t\t\trequired_size=(512, 512)\n",
    "\t\t\t\t):\n",
    "\tresults = detector.detect_faces(frame)\n",
    "\tx1, y1, width, height = results[0]['box']\n",
    "\n",
    "\tx1, y1 = abs(x1), abs(y1)\n",
    "\tx2, y2 = x1 + width, y1 + height\n",
    "\tface = frame[y1:y2, x1:x2]\n",
    "\n",
    "\tface = Image.fromarray(face)\n",
    "\tface = face.resize(required_size)\n",
    "\tface = np.asarray(face)\n",
    "\treturn face"
   ]
  },
  {
   "cell_type": "code",
   "execution_count": 4,
   "metadata": {},
   "outputs": [],
   "source": [
    "train_data_path = 'data/train'\n",
    "test_data_path = 'data/test'\n",
    "\n",
    "train_embeddings_path = 'feature_store/train_embeddings.npz'\n",
    "test_embeddings_path = 'feature_store/test_embeddings.npz'\n",
    "\n",
    "width = 150\n",
    "height = 150\n",
    "target_size = (width, height)\n",
    "input_shape = (width, height, 3)\n",
    "\n",
    "face_rec = ArcFace.ArcFace()\n",
    "encoding_dim = 512\n",
    "\n",
    "class_dict = {\n",
    "            'anger': 0,\n",
    "            'disgust': 1,\n",
    "            'fear': 2,\n",
    "            'happy': 3,\n",
    "            'sadness': 4,\n",
    "            'surprise': 5\n",
    "            }"
   ]
  },
  {
   "cell_type": "code",
   "execution_count": 5,
   "metadata": {},
   "outputs": [],
   "source": [
    "def encode_dataset(\n",
    "                  data_path,\n",
    "                  embeddings_path\n",
    "                  ):\n",
    "    if not os.path.exists(embeddings_path):\n",
    "        all_images = glob.glob(data_path + '/*/*.*')\n",
    "        all_images = [x.replace('\\\\', '/') for x in all_images]\n",
    "\n",
    "        all_labels = [x.split('/')[-2] for x in all_images]\n",
    "        labels = [class_dict[x] for x in all_labels]\n",
    "        images = [cv.cvtColor(cv.imread(x), cv.COLOR_BGR2RGB) for x in all_images]\n",
    "\n",
    "        print(\"Images are loaded, Embedding Generating for {} set\".format(data_path.split('/')[-1]))\n",
    "        encodings = face_rec.calc_emb(images)\n",
    "        np.savez_compressed(\n",
    "                            embeddings_path, \n",
    "                            encodings=encodings,\n",
    "                            labels=labels\n",
    "                            )\n",
    "        \n",
    "    else:\n",
    "        data = np.load(embeddings_path)\n",
    "        encodings = data['encodings']\n",
    "        labels = data['labels']\n",
    "\n",
    "    return encodings, labels"
   ]
  },
  {
   "cell_type": "code",
   "execution_count": 6,
   "metadata": {},
   "outputs": [],
   "source": [
    "train_encodings, train_labels = encode_dataset(train_data_path, train_embeddings_path)\n",
    "test_encodings, test_labels = encode_dataset(test_data_path, test_embeddings_path)"
   ]
  },
  {
   "cell_type": "code",
   "execution_count": 6,
   "metadata": {},
   "outputs": [
    {
     "data": {
      "text/html": [
       "<style>#sk-container-id-1 {color: black;background-color: white;}#sk-container-id-1 pre{padding: 0;}#sk-container-id-1 div.sk-toggleable {background-color: white;}#sk-container-id-1 label.sk-toggleable__label {cursor: pointer;display: block;width: 100%;margin-bottom: 0;padding: 0.3em;box-sizing: border-box;text-align: center;}#sk-container-id-1 label.sk-toggleable__label-arrow:before {content: \"▸\";float: left;margin-right: 0.25em;color: #696969;}#sk-container-id-1 label.sk-toggleable__label-arrow:hover:before {color: black;}#sk-container-id-1 div.sk-estimator:hover label.sk-toggleable__label-arrow:before {color: black;}#sk-container-id-1 div.sk-toggleable__content {max-height: 0;max-width: 0;overflow: hidden;text-align: left;background-color: #f0f8ff;}#sk-container-id-1 div.sk-toggleable__content pre {margin: 0.2em;color: black;border-radius: 0.25em;background-color: #f0f8ff;}#sk-container-id-1 input.sk-toggleable__control:checked~div.sk-toggleable__content {max-height: 200px;max-width: 100%;overflow: auto;}#sk-container-id-1 input.sk-toggleable__control:checked~label.sk-toggleable__label-arrow:before {content: \"▾\";}#sk-container-id-1 div.sk-estimator input.sk-toggleable__control:checked~label.sk-toggleable__label {background-color: #d4ebff;}#sk-container-id-1 div.sk-label input.sk-toggleable__control:checked~label.sk-toggleable__label {background-color: #d4ebff;}#sk-container-id-1 input.sk-hidden--visually {border: 0;clip: rect(1px 1px 1px 1px);clip: rect(1px, 1px, 1px, 1px);height: 1px;margin: -1px;overflow: hidden;padding: 0;position: absolute;width: 1px;}#sk-container-id-1 div.sk-estimator {font-family: monospace;background-color: #f0f8ff;border: 1px dotted black;border-radius: 0.25em;box-sizing: border-box;margin-bottom: 0.5em;}#sk-container-id-1 div.sk-estimator:hover {background-color: #d4ebff;}#sk-container-id-1 div.sk-parallel-item::after {content: \"\";width: 100%;border-bottom: 1px solid gray;flex-grow: 1;}#sk-container-id-1 div.sk-label:hover label.sk-toggleable__label {background-color: #d4ebff;}#sk-container-id-1 div.sk-serial::before {content: \"\";position: absolute;border-left: 1px solid gray;box-sizing: border-box;top: 0;bottom: 0;left: 50%;z-index: 0;}#sk-container-id-1 div.sk-serial {display: flex;flex-direction: column;align-items: center;background-color: white;padding-right: 0.2em;padding-left: 0.2em;position: relative;}#sk-container-id-1 div.sk-item {position: relative;z-index: 1;}#sk-container-id-1 div.sk-parallel {display: flex;align-items: stretch;justify-content: center;background-color: white;position: relative;}#sk-container-id-1 div.sk-item::before, #sk-container-id-1 div.sk-parallel-item::before {content: \"\";position: absolute;border-left: 1px solid gray;box-sizing: border-box;top: 0;bottom: 0;left: 50%;z-index: -1;}#sk-container-id-1 div.sk-parallel-item {display: flex;flex-direction: column;z-index: 1;position: relative;background-color: white;}#sk-container-id-1 div.sk-parallel-item:first-child::after {align-self: flex-end;width: 50%;}#sk-container-id-1 div.sk-parallel-item:last-child::after {align-self: flex-start;width: 50%;}#sk-container-id-1 div.sk-parallel-item:only-child::after {width: 0;}#sk-container-id-1 div.sk-dashed-wrapped {border: 1px dashed gray;margin: 0 0.4em 0.5em 0.4em;box-sizing: border-box;padding-bottom: 0.4em;background-color: white;}#sk-container-id-1 div.sk-label label {font-family: monospace;font-weight: bold;display: inline-block;line-height: 1.2em;}#sk-container-id-1 div.sk-label-container {text-align: center;}#sk-container-id-1 div.sk-container {/* jupyter's `normalize.less` sets `[hidden] { display: none; }` but bootstrap.min.css set `[hidden] { display: none !important; }` so we also need the `!important` here to be able to override the default hidden behavior on the sphinx rendered scikit-learn.org. See: https://github.com/scikit-learn/scikit-learn/issues/21755 */display: inline-block !important;position: relative;}#sk-container-id-1 div.sk-text-repr-fallback {display: none;}</style><div id=\"sk-container-id-1\" class=\"sk-top-container\"><div class=\"sk-text-repr-fallback\"><pre>RandomForestClassifier(max_depth=10, random_state=42)</pre><b>In a Jupyter environment, please rerun this cell to show the HTML representation or trust the notebook. <br />On GitHub, the HTML representation is unable to render, please try loading this page with nbviewer.org.</b></div><div class=\"sk-container\" hidden><div class=\"sk-item\"><div class=\"sk-estimator sk-toggleable\"><input class=\"sk-toggleable__control sk-hidden--visually\" id=\"sk-estimator-id-1\" type=\"checkbox\" checked><label for=\"sk-estimator-id-1\" class=\"sk-toggleable__label sk-toggleable__label-arrow\">RandomForestClassifier</label><div class=\"sk-toggleable__content\"><pre>RandomForestClassifier(max_depth=10, random_state=42)</pre></div></div></div></div></div>"
      ],
      "text/plain": [
       "RandomForestClassifier(max_depth=10, random_state=42)"
      ]
     },
     "execution_count": 6,
     "metadata": {},
     "output_type": "execute_result"
    }
   ],
   "source": [
    "RFC = RandomForestClassifier(\n",
    "                            n_estimators=100,\n",
    "                            max_depth=10,\n",
    "                            random_state=42\n",
    "                            )\n",
    "\n",
    "RFC.fit(train_encodings, train_labels)"
   ]
  },
  {
   "cell_type": "code",
   "execution_count": 8,
   "metadata": {},
   "outputs": [
    {
     "name": "stdout",
     "output_type": "stream",
     "text": [
      "Train Accuracy: 97.87%\n",
      "Test Accuracy: 98.33%\n"
     ]
    }
   ],
   "source": [
    "# accuracy score \n",
    "train_pred = RFC.predict(train_encodings)\n",
    "test_pred = RFC.predict(test_encodings)\n",
    "\n",
    "acc_train = accuracy_score(train_labels, train_pred)\n",
    "acc_test = accuracy_score(test_labels, test_pred)\n",
    "\n",
    "print(\"Train Accuracy: {:.2f}%\".format(acc_train*100))\n",
    "print(\"Test Accuracy: {:.2f}%\".format(acc_test*100))"
   ]
  },
  {
   "cell_type": "code",
   "execution_count": 9,
   "metadata": {},
   "outputs": [
    {
     "name": "stdout",
     "output_type": "stream",
     "text": [
      "Train Classification Report\n",
      "              precision    recall  f1-score   support\n",
      "\n",
      "           0       0.98      0.99      0.98      1500\n",
      "           1       0.94      0.99      0.97      1500\n",
      "           2       0.99      0.98      0.99      1500\n",
      "           3       0.98      0.98      0.98      1500\n",
      "           4       0.99      0.98      0.99      1500\n",
      "           5       0.99      0.96      0.97      1500\n",
      "\n",
      "    accuracy                           0.98      9000\n",
      "   macro avg       0.98      0.98      0.98      9000\n",
      "weighted avg       0.98      0.98      0.98      9000\n",
      "\n",
      "Test Classification Report\n",
      "              precision    recall  f1-score   support\n",
      "\n",
      "           0       0.99      0.98      0.99       300\n",
      "           1       0.95      1.00      0.97       300\n",
      "           2       0.99      0.98      0.99       300\n",
      "           3       0.99      0.98      0.98       300\n",
      "           4       1.00      0.99      0.99       300\n",
      "           5       0.98      0.97      0.97       300\n",
      "\n",
      "    accuracy                           0.98      1800\n",
      "   macro avg       0.98      0.98      0.98      1800\n",
      "weighted avg       0.98      0.98      0.98      1800\n",
      "\n"
     ]
    }
   ],
   "source": [
    "# classification report\n",
    "\n",
    "print(\"Train Classification Report\")\n",
    "print(classification_report(train_labels, train_pred))\n",
    "\n",
    "print(\"Test Classification Report\")\n",
    "print(classification_report(test_labels, test_pred))"
   ]
  },
  {
   "cell_type": "code",
   "execution_count": 15,
   "metadata": {},
   "outputs": [
    {
     "data": {
      "image/png": "[encoded data removed]",
      "text/plain": [
       "<Figure size 2000x1000 with 4 Axes>"
      ]
     },
     "metadata": {},
     "output_type": "display_data"
    }
   ],
   "source": [
    "# confusion matrix\n",
    "cm_train = confusion_matrix(train_labels, train_pred)\n",
    "cm_test = confusion_matrix(test_labels, test_pred)\n",
    "class_names = list(class_dict.keys())\n",
    "\n",
    "# normalize confusion matrix\n",
    "cm_train = cm_train.astype('float') / cm_train.sum(axis=1)[:, np.newaxis]\n",
    "cm_test = cm_test.astype('float') / cm_test.sum(axis=1)[:, np.newaxis]\n",
    "\n",
    "# plot confusion matrix\n",
    "fig, (ax1, ax2) = plt.subplots(1, 2, figsize=(20, 10))\n",
    "sns.heatmap(\n",
    "            cm_train,\n",
    "            annot=True,\n",
    "            cmap=plt.cm.Blues,\n",
    "            xticklabels=class_names,\n",
    "            yticklabels=class_names,\n",
    "            ax=ax1\n",
    "            )\n",
    "ax1.set_title(\"Train Confusion Matrix\")\n",
    "ax1.set_ylabel('True Label')\n",
    "ax1.set_xlabel('Predicted Label')\n",
    "\n",
    "sns.heatmap(\n",
    "            cm_test,\n",
    "            annot=True,\n",
    "            cmap=plt.cm.Blues,\n",
    "            xticklabels=class_names,\n",
    "            yticklabels=class_names,\n",
    "            ax=ax2\n",
    "            )\n",
    "ax2.set_title(\"Test Confusion Matrix\")\n",
    "ax2.set_ylabel('True Label')\n",
    "ax2.set_xlabel('Predicted Label')\n",
    "plt.show()"
   ]
  },
  {
   "attachments": {},
   "cell_type": "markdown",
   "metadata": {},
   "source": [
    "# Text Emotion"
   ]
  },
  {
   "cell_type": "code",
   "execution_count": 10,
   "metadata": {},
   "outputs": [
    {
     "name": "stderr",
     "output_type": "stream",
     "text": [
      "c:\\Users\\Legion\\.conda\\envs\\tf210\\lib\\site-packages\\transformers\\models\\auto\\modeling_auto.py:1352: FutureWarning: The class `AutoModelWithLMHead` is deprecated and will be removed in a future version. Please use `AutoModelForCausalLM` for causal language models, `AutoModelForMaskedLM` for masked language models and `AutoModelForSeq2SeqLM` for encoder-decoder models.\n",
      "  warnings.warn(\n"
     ]
    }
   ],
   "source": [
    "tokenizer_text_emotion = AutoTokenizer.from_pretrained(\"mrm8488/t5-base-finetuned-emotion\")\n",
    "model_text_emotion = AutoModelWithLMHead.from_pretrained(\"mrm8488/t5-base-finetuned-emotion\")\n",
    "\n",
    "def get_emotion(text):\n",
    "    input_ids = tokenizer_text_emotion.encode(text + '</s>', return_tensors='pt')\n",
    "\n",
    "    output = model_text_emotion.generate(\n",
    "                                        input_ids=input_ids,\n",
    "                                        max_length=2\n",
    "                                        )\n",
    "    \n",
    "    dec = [tokenizer_text_emotion.decode(ids) for ids in output]\n",
    "    label = dec[0]\n",
    "    label = label.split()[-1]\n",
    "\n",
    "    if label in ['joy', 'love']:\n",
    "        label = 'happy'\n",
    "    return label"
   ]
  },
  {
   "attachments": {},
   "cell_type": "markdown",
   "metadata": {},
   "source": [
    "# Inference"
   ]
  },
  {
   "cell_type": "code",
   "execution_count": 7,
   "metadata": {},
   "outputs": [
    {
     "name": "stderr",
     "output_type": "stream",
     "text": [
      "c:\\Users\\Legion\\.conda\\envs\\tf210\\lib\\site-packages\\transformers\\models\\auto\\modeling_auto.py:1352: FutureWarning: The class `AutoModelWithLMHead` is deprecated and will be removed in a future version. Please use `AutoModelForCausalLM` for causal language models, `AutoModelForMaskedLM` for masked language models and `AutoModelForSeq2SeqLM` for encoder-decoder models.\n",
      "  warnings.warn(\n"
     ]
    }
   ],
   "source": [
    "import pathlib\n",
    "import cv2 as cv\n",
    "from mtcnn.mtcnn import MTCNN\n",
    "from fastai.vision.all import *\n",
    "\n",
    "temp = pathlib.PosixPath\n",
    "pathlib.PosixPath = pathlib.WindowsPath\n",
    "\n",
    "model_face_emotion = load_learner('feature_store/face_emotions.pkl')\n",
    "face_emotion_labels = model_face_emotion.dls.vocab\n",
    "\n",
    "tokenizer_text_emotion = AutoTokenizer.from_pretrained(\"mrm8488/t5-base-finetuned-emotion\")\n",
    "model_text_emotion = AutoModelWithLMHead.from_pretrained(\"mrm8488/t5-base-finetuned-emotion\")\n",
    "\n",
    "emotion_arr = [\n",
    "                'angry',\n",
    "                'disgust',\n",
    "                'fear',\n",
    "                'happy',\n",
    "                'neutral',\n",
    "                'sad',\n",
    "                'surprise'\n",
    "                ]"
   ]
  },
  {
   "cell_type": "code",
   "execution_count": 12,
   "metadata": {},
   "outputs": [],
   "source": [
    "def face_emotion_inference(\n",
    "                            video_path,\n",
    "                            multiplier=10\n",
    "                            ):\n",
    "    cap = cv.VideoCapture(video_path)\n",
    "    multiplier = int(cap.get(cv.CAP_PROP_FPS)) * 4\n",
    "    print(\"FRAME RATE: \", multiplier)\n",
    "    \n",
    "    frames = []\n",
    "    counter = 0\n",
    "    while True:\n",
    "        ret, frame = cap.read()\n",
    "        print(frame)\n",
    "        if not ret:\n",
    "            break\n",
    "        if counter % multiplier == 0:\n",
    "            try:\n",
    "                frame = extract_face(frame, required_size=(48, 48))\n",
    "                frame = cv.cvtColor(frame, cv.COLOR_BGR2GRAY)\n",
    "                frame = PILImage.create(frame)\n",
    "                frames.append(frame)\n",
    "            except:\n",
    "                pass\n",
    "        counter += 1\n",
    "    cap.release()\n",
    "\n",
    "    probs_emotion = [model_face_emotion.predict(x) for x in frames]\n",
    "    emotions = [x[0] for x in probs_emotion]\n",
    "    probabilities = [float(x[2][x[1]]) for x in probs_emotion]\n",
    "\n",
    "    df = pd.DataFrame({\n",
    "                        'emotion': emotions,\n",
    "                        'probability': probabilities\n",
    "                        })\n",
    "    df = df[df['probability'] > 0.9]\n",
    "    emotion_count = df['emotion'].value_counts(normalize=True)\n",
    "    return emotion_count.index[0]\n",
    "\n",
    "def text_emotion_inference(text):\n",
    "    input_ids = tokenizer_text_emotion.encode(text + '</s>', return_tensors='pt')\n",
    "\n",
    "    output = model_text_emotion.generate(\n",
    "                                        input_ids=input_ids,\n",
    "                                        max_length=2\n",
    "                                        )\n",
    "    \n",
    "    dec = [tokenizer_text_emotion.decode(ids) for ids in output]\n",
    "    label = dec[0]\n",
    "    label = label.split()[-1]\n",
    "\n",
    "    if label in ['joy', 'love']:\n",
    "        label = 'happy'\n",
    "    return label"
   ]
  },
  {
   "cell_type": "code",
   "execution_count": 13,
   "metadata": {},
   "outputs": [
    {
     "name": "stdout",
     "output_type": "stream",
     "text": [
      "FRAME RATE:  4\n",
      "[[[204 212 209]\n",
      "  [204 212 209]\n",
      "  [204 212 209]\n",
      "  ...\n",
      "  [190 196 191]\n",
      "  [191 197 192]\n",
      "  [191 197 192]]\n",
      "\n",
      " [[206 214 211]\n",
      "  [206 214 211]\n",
      "  [206 214 211]\n",
      "  ...\n",
      "  [190 196 191]\n",
      "  [190 196 191]\n",
      "  [190 196 191]]\n",
      "\n",
      " [[206 214 211]\n",
      "  [206 214 211]\n",
      "  [206 214 211]\n",
      "  ...\n",
      "  [189 195 190]\n",
      "  [189 195 190]\n",
      "  [189 195 190]]\n",
      "\n",
      " ...\n",
      "\n",
      " [[193 203 207]\n",
      "  [192 202 206]\n",
      "  [191 201 205]\n",
      "  ...\n",
      "  [ 58 108 155]\n",
      "  [ 58 108 155]\n",
      "  [ 58 108 155]]\n",
      "\n",
      " [[195 205 209]\n",
      "  [193 203 207]\n",
      "  [192 202 206]\n",
      "  ...\n",
      "  [ 57 107 154]\n",
      "  [ 58 108 155]\n",
      "  [ 58 108 155]]\n",
      "\n",
      " [[192 202 206]\n",
      "  [193 203 207]\n",
      "  [195 205 209]\n",
      "  ...\n",
      "  [ 58 108 155]\n",
      "  [ 58 108 155]\n",
      "  [ 57 107 154]]]\n",
      "[[[172 189 193]\n",
      "  [172 189 193]\n",
      "  [172 189 193]\n",
      "  ...\n",
      "  [181 196 194]\n",
      "  [181 196 194]\n",
      "  [181 196 194]]\n",
      "\n",
      " [[171 188 192]\n",
      "  [171 188 192]\n",
      "  [171 188 192]\n",
      "  ...\n",
      "  [181 196 194]\n",
      "  [181 196 194]\n",
      "  [181 196 194]]\n",
      "\n",
      " [[171 188 192]\n",
      "  [171 188 192]\n",
      "  [171 188 192]\n",
      "  ...\n",
      "  [181 196 194]\n",
      "  [181 196 194]\n",
      "  [181 196 194]]\n",
      "\n",
      " ...\n",
      "\n",
      " [[118 140 155]\n",
      "  [118 140 155]\n",
      "  [118 140 155]\n",
      "  ...\n",
      "  [156 174 176]\n",
      "  [156 174 176]\n",
      "  [156 174 176]]\n",
      "\n",
      " [[117 139 154]\n",
      "  [117 139 154]\n",
      "  [117 139 154]\n",
      "  ...\n",
      "  [156 174 176]\n",
      "  [156 174 176]\n",
      "  [156 174 176]]\n",
      "\n",
      " [[117 139 154]\n",
      "  [117 139 154]\n",
      "  [117 139 154]\n",
      "  ...\n",
      "  [156 174 176]\n",
      "  [156 174 176]\n",
      "  [156 174 176]]]\n",
      "None\n"
     ]
    },
    {
     "ename": "IndexError",
     "evalue": "index 0 is out of bounds for axis 0 with size 0",
     "output_type": "error",
     "traceback": [
      "\u001b[1;31m---------------------------------------------------------------------------\u001b[0m",
      "\u001b[1;31mIndexError\u001b[0m                                Traceback (most recent call last)",
      "\u001b[1;32mc:\\Projects\\private-projects\\SLIIT\\Group\\PP2 Progressing\\hearing and speech impairments\\emotion-detection.ipynb Cell 16\u001b[0m in \u001b[0;36m<cell line: 1>\u001b[1;34m()\u001b[0m\n\u001b[1;32m----> <a href='vscode-notebook-cell:/c%3A/Projects/private-projects/SLIIT/Group/PP2%20Progressing/hearing%20and%20speech%20impairments/emotion-detection.ipynb#X21sZmlsZQ%3D%3D?line=0'>1</a>\u001b[0m face_emotion_inference(\u001b[39m'\u001b[39;49m\u001b[39muploads/sample.avi\u001b[39;49m\u001b[39m'\u001b[39;49m)\n",
      "\u001b[1;32mc:\\Projects\\private-projects\\SLIIT\\Group\\PP2 Progressing\\hearing and speech impairments\\emotion-detection.ipynb Cell 16\u001b[0m in \u001b[0;36mface_emotion_inference\u001b[1;34m(video_path, multiplier)\u001b[0m\n\u001b[0;32m     <a href='vscode-notebook-cell:/c%3A/Projects/private-projects/SLIIT/Group/PP2%20Progressing/hearing%20and%20speech%20impairments/emotion-detection.ipynb#X21sZmlsZQ%3D%3D?line=34'>35</a>\u001b[0m df \u001b[39m=\u001b[39m df[df[\u001b[39m'\u001b[39m\u001b[39mprobability\u001b[39m\u001b[39m'\u001b[39m] \u001b[39m>\u001b[39m \u001b[39m0.9\u001b[39m]\n\u001b[0;32m     <a href='vscode-notebook-cell:/c%3A/Projects/private-projects/SLIIT/Group/PP2%20Progressing/hearing%20and%20speech%20impairments/emotion-detection.ipynb#X21sZmlsZQ%3D%3D?line=35'>36</a>\u001b[0m emotion_count \u001b[39m=\u001b[39m df[\u001b[39m'\u001b[39m\u001b[39memotion\u001b[39m\u001b[39m'\u001b[39m]\u001b[39m.\u001b[39mvalue_counts(normalize\u001b[39m=\u001b[39m\u001b[39mTrue\u001b[39;00m)\n\u001b[1;32m---> <a href='vscode-notebook-cell:/c%3A/Projects/private-projects/SLIIT/Group/PP2%20Progressing/hearing%20and%20speech%20impairments/emotion-detection.ipynb#X21sZmlsZQ%3D%3D?line=36'>37</a>\u001b[0m \u001b[39mreturn\u001b[39;00m emotion_count\u001b[39m.\u001b[39;49mindex[\u001b[39m0\u001b[39;49m]\n",
      "File \u001b[1;32mc:\\Users\\Legion\\.conda\\envs\\tf210\\lib\\site-packages\\pandas\\core\\indexes\\base.py:4280\u001b[0m, in \u001b[0;36mIndex.__getitem__\u001b[1;34m(self, key)\u001b[0m\n\u001b[0;32m   4278\u001b[0m \u001b[39mif\u001b[39;00m is_scalar(key):\n\u001b[0;32m   4279\u001b[0m     key \u001b[39m=\u001b[39m com\u001b[39m.\u001b[39mcast_scalar_indexer(key)\n\u001b[1;32m-> 4280\u001b[0m     \u001b[39mreturn\u001b[39;00m getitem(key)\n\u001b[0;32m   4282\u001b[0m \u001b[39mif\u001b[39;00m \u001b[39misinstance\u001b[39m(key, \u001b[39mslice\u001b[39m):\n\u001b[0;32m   4283\u001b[0m     \u001b[39m# This case is separated from the conditional above to avoid\u001b[39;00m\n\u001b[0;32m   4284\u001b[0m     \u001b[39m# pessimization of basic indexing.\u001b[39;00m\n\u001b[0;32m   4285\u001b[0m     \u001b[39mreturn\u001b[39;00m promote(getitem(key))\n",
      "\u001b[1;31mIndexError\u001b[0m: index 0 is out of bounds for axis 0 with size 0"
     ]
    }
   ],
   "source": [
    "face_emotion_inference('uploads/sample.avi')"
   ]
  },
  {
   "cell_type": "code",
   "execution_count": null,
   "metadata": {},
   "outputs": [],
   "source": []
  }
 ],
 "metadata": {
  "kernelspec": {
   "display_name": "tf210",
   "language": "python",
   "name": "python3"
  },
  "language_info": {
   "codemirror_mode": {
    "name": "ipython",
    "version": 3
   },
   "file_extension": ".py",
   "mimetype": "text/x-python",
   "name": "python",
   "nbconvert_exporter": "python",
   "pygments_lexer": "ipython3",
   "version": "3.8.13"
  },
  "orig_nbformat": 4
 },
 "nbformat": 4,
 "nbformat_minor": 2
}
